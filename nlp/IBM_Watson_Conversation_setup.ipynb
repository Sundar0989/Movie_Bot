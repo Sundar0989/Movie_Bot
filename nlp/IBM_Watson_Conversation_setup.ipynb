{
 "cells": [
  {
   "cell_type": "markdown",
   "metadata": {},
   "source": [
    "# IBM Watson Conversation setup"
   ]
  },
  {
   "cell_type": "markdown",
   "metadata": {},
   "source": [
    "## Step1 - Create a Watson account"
   ]
  },
  {
   "cell_type": "markdown",
   "metadata": {},
   "source": [
    "Please visit https://www.ibm.com/watson/ and click on \"Get Started Free\" as shown below."
   ]
  },
  {
   "cell_type": "markdown",
   "metadata": {},
   "source": [
    "<img src='watson_account_setup/home page.png' width='75%' height='75%'>"
   ]
  },
  {
   "cell_type": "markdown",
   "metadata": {},
   "source": [
    "You will be redirected to the page below."
   ]
  },
  {
   "cell_type": "markdown",
   "metadata": {},
   "source": [
    "<img src='watson_account_setup/signup page.png' width='75%' height='75%'>"
   ]
  },
  {
   "cell_type": "markdown",
   "metadata": {},
   "source": [
    "Fill out your credentials and then verify your email id. Once the process is completed, you can login to your account. \n",
    "\n",
    "__Note__: Sometimes you might receive an error saying that it failed to create your account. Please clear your browsing data and try again. I have experimented a lot on this and at times it took me more than 3 times to create an account. So have fun!"
   ]
  },
  {
   "cell_type": "markdown",
   "metadata": {},
   "source": [
    "## Step2 - Create a Watson conversation resource"
   ]
  },
  {
   "cell_type": "markdown",
   "metadata": {},
   "source": [
    "In the AI section of your home page, you will see __\"Watson Assistant (formerly Conversation)\"__. Please click on that to create a conversation resource. Please follow the steps below to create a resource. If you have already created your resource, you can access resource via the dashboard which is shown below."
   ]
  },
  {
   "cell_type": "markdown",
   "metadata": {},
   "source": [
    "<img src='watson_account_setup/after login.png' width='75%' height='75%'>"
   ]
  },
  {
   "cell_type": "markdown",
   "metadata": {},
   "source": [
    "<img src='watson_account_setup/create watson assistant.png' width='75%' height='75%'>"
   ]
  },
  {
   "cell_type": "markdown",
   "metadata": {},
   "source": [
    "<img src='watson_account_setup/launch tool.png' width='75%' height='75%'>"
   ]
  },
  {
   "cell_type": "markdown",
   "metadata": {},
   "source": [
    "Accessing a resource which is already created using the dashboard in IBM cloud."
   ]
  },
  {
   "cell_type": "markdown",
   "metadata": {},
   "source": [
    "<img src='watson_account_setup/dashboard.png' width='75%' height='75%'>"
   ]
  },
  {
   "cell_type": "markdown",
   "metadata": {},
   "source": [
    "<img src='watson_account_setup/launch tool.png' width='75%' height='75%'>"
   ]
  },
  {
   "cell_type": "markdown",
   "metadata": {},
   "source": [
    "Now you can click on __\"Launch tool\"__ and start adding skills for your bot."
   ]
  },
  {
   "cell_type": "markdown",
   "metadata": {},
   "source": [
    "## Step3 - Create a Bot workspace and add skills"
   ]
  },
  {
   "cell_type": "markdown",
   "metadata": {},
   "source": [
    "This is where you start your bot workspace and start adding skills. The steps below will guide you to accomplish that."
   ]
  },
  {
   "cell_type": "markdown",
   "metadata": {},
   "source": [
    "<img src='watson_account_setup/watson assistant.png' width='75%' height='75%'>"
   ]
  },
  {
   "cell_type": "markdown",
   "metadata": {},
   "source": [
    "<img src='watson_account_setup/skills page.png' width='75%' height='75%'>"
   ]
  },
  {
   "cell_type": "markdown",
   "metadata": {},
   "source": [
    "<img src='watson_account_setup/add dialog skill.png' width='75%' height='75%'>"
   ]
  },
  {
   "cell_type": "markdown",
   "metadata": {},
   "source": [
    "<img src='watson_account_setup/inside kelly.png' width='75%' height='75%'>"
   ]
  },
  {
   "cell_type": "markdown",
   "metadata": {},
   "source": [
    "## Step4 - Intents, Entities and Dialog"
   ]
  },
  {
   "cell_type": "markdown",
   "metadata": {},
   "source": [
    "To create a bot, these three features are most important\n",
    "\n",
    "1. Intents  \n",
    "2. Entities \n",
    "3. Dialog\n",
    "\n",
    "The link below provides a idea on how to create those.\n",
    "\n",
    "https://developer.ibm.com/courses/change-intents-entities-dialog/\n",
    "\n",
    "Also, please go through the coursera lecture to get a better understanding on these topics. \n",
    "\n",
    "https://www.coursera.org/lecture/how-to-build-your-own-chatbot-without-coding/dialog-Cupqp\n",
    "\n",
    "I will provide a workspace json which you can import to your workspace to understand how I used them for the Movie Recommendation bot. "
   ]
  },
  {
   "cell_type": "markdown",
   "metadata": {},
   "source": [
    "## Step5 - Import a existing workspace to your Watson conversation."
   ]
  },
  {
   "cell_type": "markdown",
   "metadata": {},
   "source": [
    "In the add dialog skill box shown above, there is a tab to import skill. This feature can be used to upload a workspace to your resource."
   ]
  },
  {
   "cell_type": "markdown",
   "metadata": {},
   "source": [
    "<img src='watson_account_setup/import workspace.png' width='75%' height='75%'>"
   ]
  },
  {
   "cell_type": "markdown",
   "metadata": {},
   "source": [
    "## Step6 - Accessing the API keys for python config files"
   ]
  },
  {
   "cell_type": "markdown",
   "metadata": {},
   "source": [
    "Once you are done with adding skills to your bot, it is time to deploy it. We need the keys to add to the configuration python file."
   ]
  },
  {
   "cell_type": "markdown",
   "metadata": {},
   "source": [
    "<img src='watson_account_setup/deploy.png' width='35%' height='35%'>"
   ]
  },
  {
   "cell_type": "markdown",
   "metadata": {},
   "source": [
    "<img src='watson_account_setup/assistant.png' width='75%' height='75%'>"
   ]
  },
  {
   "cell_type": "markdown",
   "metadata": {},
   "source": [
    "Get the API details for your bot, by clicking on the \"View API Details\" and you need to grab two pieces of information to add to configuration file. This information is highlighted in orange color."
   ]
  },
  {
   "cell_type": "markdown",
   "metadata": {},
   "source": [
    "Note: as of 2020-05-01 (EU) the API Key for the `config.py` file should be taken from the Assistant Settings API details. Depending on your location, you will also need part of the URL as parameter in your `AssistantV1()` function call. In addition, you will need from the Skill API details the Skill ID as `workspace_id`. Disclaimer: the selection of these parameters might depend on your location."
   ]
  },
  {
   "cell_type": "markdown",
   "metadata": {},
   "source": [
    "## Step7 - Edit the config.py to add watson configuration"
   ]
  },
  {
   "cell_type": "markdown",
   "metadata": {},
   "source": [
    "I would recommend you to read the documentation in the links below to build a client application\n",
    "\n",
    "1. https://console.bluemix.net/apidocs/assistant?language=python  \n",
    "2. https://console.bluemix.net/docs/services/assistant/api-client.html#building-a-client-application"
   ]
  },
  {
   "cell_type": "markdown",
   "metadata": {},
   "source": [
    "<img src='watson_account_setup/config.png' width='75%' height='75%'>"
   ]
  },
  {
   "cell_type": "markdown",
   "metadata": {},
   "source": [
    "You are all set. Have fun!"
   ]
  },
  {
   "cell_type": "code",
   "execution_count": null,
   "metadata": {
    "collapsed": true
   },
   "outputs": [],
   "source": []
  },
  {
   "cell_type": "code",
   "execution_count": null,
   "metadata": {
    "collapsed": true
   },
   "outputs": [],
   "source": []
  },
  {
   "cell_type": "code",
   "execution_count": null,
   "metadata": {
    "collapsed": true
   },
   "outputs": [],
   "source": []
  },
  {
   "cell_type": "code",
   "execution_count": null,
   "metadata": {
    "collapsed": true
   },
   "outputs": [],
   "source": []
  },
  {
   "cell_type": "code",
   "execution_count": null,
   "metadata": {
    "collapsed": true
   },
   "outputs": [],
   "source": []
  }
 ],
 "metadata": {
  "kernelspec": {
   "display_name": "Python 3",
   "language": "python",
   "name": "python3"
  },
  "language_info": {
   "codemirror_mode": {
    "name": "ipython",
    "version": 3
   },
   "file_extension": ".py",
   "mimetype": "text/x-python",
   "name": "python",
   "nbconvert_exporter": "python",
   "pygments_lexer": "ipython3",
   "version": "3.5.2"
  }
 },
 "nbformat": 4,
 "nbformat_minor": 2
}
